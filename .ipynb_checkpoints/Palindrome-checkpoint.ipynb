{
 "cells": [
  {
   "cell_type": "code",
   "execution_count": 12,
   "metadata": {
    "collapsed": false
   },
   "outputs": [],
   "source": [
    "def palindrome_checker(string_2b_checked):\n",
    "    forwards = string_2b_checked\n",
    "    backwards = string_2b_checked[::-1]\n",
    "    if forwards == backwards:\n",
    "        print(string_2b_checked + 'is a palindrome!')\n",
    "    else:\n",
    "        print('sorry, no')"
   ]
  },
  {
   "cell_type": "code",
   "execution_count": 16,
   "metadata": {
    "collapsed": false
   },
   "outputs": [
    {
     "name": "stdout",
     "output_type": "stream",
     "text": [
      "sorry, no\n"
     ]
    }
   ],
   "source": [
    "palindrome_checker(\"able was I ere I saw elba\")"
   ]
  },
  {
   "cell_type": "code",
   "execution_count": 17,
   "metadata": {
    "collapsed": false
   },
   "outputs": [
    {
     "data": {
      "text/plain": [
       "'87654321'"
      ]
     },
     "execution_count": 17,
     "metadata": {},
     "output_type": "execute_result"
    }
   ],
   "source": [
    "\"12345678\"[::-1]"
   ]
  },
  {
   "cell_type": "code",
   "execution_count": 53,
   "metadata": {
    "collapsed": false
   },
   "outputs": [],
   "source": [
    "#test fail check\n",
    "#fix test pass\n",
    "def palindrome_checker(string_2b_checked):\n",
    "    forwards = string_2b_checked.lower()\n",
    "    backwards = string_2b_checked[::-1].lower()\n",
    "    if forwards == backwards:\n",
    "        print(string_2b_checked + ' is a palindrome!')\n",
    "    else:\n",
    "        print('sorry, no')"
   ]
  },
  {
   "cell_type": "code",
   "execution_count": 54,
   "metadata": {
    "collapsed": false
   },
   "outputs": [
    {
     "name": "stdout",
     "output_type": "stream",
     "text": [
      "able was I ere I saw Elba is a palindrome!\n"
     ]
    }
   ],
   "source": [
    "palindrome_checker(\"Able was I ere I saw Elba\")"
   ]
  },
  {
   "cell_type": "code",
   "execution_count": 71,
   "metadata": {
    "collapsed": false
   },
   "outputs": [],
   "source": [
    "#test fail good\n",
    "#test pass good\n",
    "def palindrome_checker (string_2b_checked):\n",
    "    forwards = string_2b_checked.lower()\n",
    "    backwards = string_2b_checked[::-1].lower()\n",
    "    if forwards == backwards:\n",
    "        print(string_2b_checked + ' is a palindrome!')\n",
    "    else:\n",
    "        print('sorry, no')"
   ]
  },
  {
   "cell_type": "code",
   "execution_count": 73,
   "metadata": {
    "collapsed": false
   },
   "outputs": [
    {
     "name": "stdout",
     "output_type": "stream",
     "text": [
      "Able was I ere I saw Elba is a palindrome!\n"
     ]
    }
   ],
   "source": [
    "palindrome_checker(\"Able was I ere I saw Elba\")"
   ]
  },
  {
   "cell_type": "code",
   "execution_count": null,
   "metadata": {
    "collapsed": false
   },
   "outputs": [],
   "source": [
    "#test fail good\n",
    "#test pass good\n",
    "def palindrome_checker(string_2b_checked):\n",
    "    forwards = str(string_2b_checked.lower())\n",
    "    backwards = str(string_2b_checked[::-1].lower())\n",
    "    if forwards == backwards:\n",
    "        print(string_2b_checked + ' is a palindrome!')\n",
    "    else:\n",
    "        print('Sorry, no')"
   ]
  },
  {
   "cell_type": "code",
   "execution_count": 2,
   "metadata": {
    "collapsed": false
   },
   "outputs": [
    {
     "name": "stdout",
     "output_type": "stream",
     "text": [
      "1451771541 is a palindrome!\n"
     ]
    }
   ],
   "source": [
    "palindrome_checker(\"1451771541\")"
   ]
  },
  {
   "cell_type": "code",
   "execution_count": 8,
   "metadata": {
    "collapsed": true
   },
   "outputs": [],
   "source": [
    "#test fail good\n",
    "#test pass good\n",
    "def pal(string_2b_checked):\n",
    "    forwards = str(string_2b_checked.lower())\n",
    "    backwards = str(string_2b_checked[::-1].lower())\n",
    "    if forwards == backwards:\n",
    "        print(string_2b_checked + ' is a palindrome!')\n",
    "    else:\n",
    "        print('Sorry, no')"
   ]
  },
  {
   "cell_type": "code",
   "execution_count": 9,
   "metadata": {
    "collapsed": false
   },
   "outputs": [
    {
     "name": "stdout",
     "output_type": "stream",
     "text": [
      "ssss is a palindrome!\n"
     ]
    }
   ],
   "source": [
    "pal(\"ssss\")"
   ]
  },
  {
   "cell_type": "code",
   "execution_count": 60,
   "metadata": {
    "collapsed": true
   },
   "outputs": [],
   "source": [
    "#test fail good\n",
    "#test pass good\n",
    "def pal(string):\n",
    "    forwards = str(string.lower())\n",
    "    backwards = str(string[::-1].lower())\n",
    "    if forwards == backwards:\n",
    "        print(string + ' is a palindrome!')\n",
    "    else:\n",
    "        print('Sorry, no')"
   ]
  },
  {
   "cell_type": "code",
   "execution_count": 62,
   "metadata": {
    "collapsed": false
   },
   "outputs": [
    {
     "name": "stdout",
     "output_type": "stream",
     "text": [
      "Able was I ere I saw Elba is a palindrome!\n"
     ]
    }
   ],
   "source": [
    "pal('Able was I ere I saw Elba')\n",
    "#-Napoleon"
   ]
  },
  {
   "cell_type": "code",
   "execution_count": 76,
   "metadata": {
    "collapsed": false
   },
   "outputs": [],
   "source": [
    "#test fail good\n",
    "#test pass good\n",
    "def pal(string):\n",
    "    forwards = str(string.lower())\n",
    "    backwards = str(string[::-1].lower())\n",
    "    if forwards == backwards:\n",
    "        print('Your phrase: ' + string + ', is a palindrome!')\n",
    "    else:\n",
    "        print('Sorry, no')"
   ]
  },
  {
   "cell_type": "code",
   "execution_count": 77,
   "metadata": {
    "collapsed": false
   },
   "outputs": [
    {
     "name": "stdout",
     "output_type": "stream",
     "text": [
      "Your phrase: racecar, is a palindrome!\n"
     ]
    }
   ],
   "source": [
    "pal('racecar')"
   ]
  },
  {
   "cell_type": "code",
   "execution_count": 90,
   "metadata": {
    "collapsed": false
   },
   "outputs": [],
   "source": [
    "#test fail good\n",
    "#test pass good\n",
    "#! add input\n",
    "#! add title for only the first character in the string\n",
    "#A man, a plan, a cat, a ham, a yak, a yam, a hat, a canal: Panama!\n",
    "#Doc, note, I dissent. A fast never prevents a fatness. I diet on cod.\n",
    "#Lisa Bonet ate no basil\n",
    "def pal(string):\n",
    "    forwards = str(string.lower())\n",
    "    backwards = str(string[::-1].lower())\n",
    "    if forwards == backwards:\n",
    "        print('Your phrase: ' + string + ', is a palindrome!')\n",
    "    else:\n",
    "        print('Sorry, no')"
   ]
  },
  {
   "cell_type": "code",
   "execution_count": 91,
   "metadata": {
    "collapsed": false,
    "scrolled": true
   },
   "outputs": [
    {
     "name": "stdout",
     "output_type": "stream",
     "text": [
      "Sorry, no\n"
     ]
    }
   ],
   "source": [
    "pal('Able w as I ere I saw Elba')"
   ]
  },
  {
   "cell_type": "code",
   "execution_count": 120,
   "metadata": {
    "collapsed": true
   },
   "outputs": [],
   "source": [
    "#test for spaces not working\n",
    "#! add input\n",
    "#! add title for only the first character in the string\n",
    "#A man, a plan, a cat, a ham, a yak, a yam, a hat, a canal: Panama!\n",
    "#Doc, note, I dissent. A fast never prevents a fatness. I diet on cod.\n",
    "#Lisa Bonet ate no basil\n",
    "def pal(string):\n",
    "    forwards = str(string.lower())\n",
    "    backwards = str(string[::-1].lower())\n",
    "    forwards_mod = forwards.replace(' ', '')\n",
    "    backwards_mod = backwards.replace(' ', '')\n",
    "    if forwards_mod == backwards_mod:\n",
    "        print('Your phrase: ' + string + ', is a palindrome!')\n",
    "    else:\n",
    "        print('Sorry, no')"
   ]
  },
  {
   "cell_type": "code",
   "execution_count": 121,
   "metadata": {
    "collapsed": false,
    "scrolled": true
   },
   "outputs": [
    {
     "name": "stdout",
     "output_type": "stream",
     "text": [
      "Your phrase: Able was I ere I sa w Elba, is a palindrome!\n"
     ]
    }
   ],
   "source": [
    "pal('Able was I ere I sa w Elba')"
   ]
  },
  {
   "cell_type": "code",
   "execution_count": 122,
   "metadata": {
    "collapsed": true
   },
   "outputs": [],
   "source": [
    "#test for spaces not working\n",
    "#! add input\n",
    "#! add title for only the first character in the string\n",
    "#A man, a plan, a cat, a ham, a yak, a yam, a hat, a canal: Panama!\n",
    "#Doc, note, I dissent. A fast never prevents a fatness. I diet on cod.\n",
    "#Lisa Bonet ate no basil\n",
    "def pal(string):\n",
    "    forwards = str(string.lower())\n",
    "    backwards = str(string[::-1].lower())\n",
    "    forwards_mod = forwards.replace(' ', '')\n",
    "    backwards_mod = backwards.replace(' ', '')\n",
    "    if forwards_mod == backwards_mod:\n",
    "        print('Your phrase: ' + string + ', is a palindrome!')\n",
    "    else:\n",
    "        print('Sorry, no')"
   ]
  },
  {
   "cell_type": "code",
   "execution_count": 123,
   "metadata": {
    "collapsed": false
   },
   "outputs": [
    {
     "name": "stdout",
     "output_type": "stream",
     "text": [
      "Your phrase: Lisa Bonet ate no basil, is a palindrome!\n"
     ]
    }
   ],
   "source": [
    "pal('Lisa Bonet ate no basil')"
   ]
  },
  {
   "cell_type": "code",
   "execution_count": 163,
   "metadata": {
    "collapsed": false
   },
   "outputs": [],
   "source": [
    "#! add input\n",
    "#A man, a plan, a cat, a ham, a yak, a yam, a hat, a canal: Panama!\n",
    "#Doc, note, I dissent. A fast never prevents a fatness. I diet on cod.\n",
    "def pal(string):\n",
    "    forwards = str(string.lower())\n",
    "    backwards = str(string[::-1].lower())\n",
    "    forwards_mod = forwards.replace(' ', '')\n",
    "    backwards_mod = backwards.replace(' ', '')\n",
    "    #double up for :,!? \n",
    "    if forwards_mod == backwards_mod:\n",
    "        print('Your phrase: ' + string + ', is a palindrome!')\n",
    "    else:\n",
    "        print('Sorry, no.')\n",
    "        "
   ]
  },
  {
   "cell_type": "code",
   "execution_count": 164,
   "metadata": {
    "collapsed": false,
    "scrolled": true
   },
   "outputs": [
    {
     "name": "stdout",
     "output_type": "stream",
     "text": [
      "Hey enter some text\n",
      "Able was I ere I sa w elba\n",
      "Your phrase: Able was I ere I sa w elba, is a palindrome!\n"
     ]
    }
   ],
   "source": [
    "print(\"Hey enter some text\")\n",
    "text = input()\n",
    "pal(text)"
   ]
  },
  {
   "cell_type": "code",
   "execution_count": 186,
   "metadata": {
    "collapsed": false
   },
   "outputs": [],
   "source": [
    "#! add input\n",
    "\n",
    "def pal(string):\n",
    "    forwards = str(string.lower())\n",
    "    backwards = str(string[::-1].lower())\n",
    "    #forwards_mod = forwards.replace(' ', '')\n",
    "    #backwards_mod = backwards.replace(' ', '')\n",
    "    banned = ', :!.?'\n",
    "    for thingy in banned:\n",
    "        forwards = forwards.replace(thingy, '')\n",
    "        backwards = backwards.replace(thingy, '')\n",
    "    if forwards == backwards:\n",
    "        print('Your phrase: ' + string + ', is a palindrome!')\n",
    "    else:\n",
    "        print('Sorry, no.')"
   ]
  },
  {
   "cell_type": "code",
   "execution_count": 187,
   "metadata": {
    "collapsed": false
   },
   "outputs": [
    {
     "name": "stdout",
     "output_type": "stream",
     "text": [
      "Your phrase: Doc, note, I dissent. A fast never prevents a fatness. I diet on cod., is a palindrome!\n"
     ]
    }
   ],
   "source": [
    "pal('Doc, note, I dissent. A fast never prevents a fatness. I diet on cod.')"
   ]
  },
  {
   "cell_type": "code",
   "execution_count": 184,
   "metadata": {
    "collapsed": false
   },
   "outputs": [],
   "source": [
    "string = 'testing out'\n",
    "def proper(string):\n",
    "    return string[0].upper()+string[1:]"
   ]
  },
  {
   "cell_type": "code",
   "execution_count": 185,
   "metadata": {
    "collapsed": false
   },
   "outputs": [
    {
     "data": {
      "text/plain": [
       "'Joel is a cool dude'"
      ]
     },
     "execution_count": 185,
     "metadata": {},
     "output_type": "execute_result"
    }
   ],
   "source": [
    "proper(\"joel is a cool dude\")"
   ]
  },
  {
   "cell_type": "code",
   "execution_count": 197,
   "metadata": {
    "collapsed": true
   },
   "outputs": [],
   "source": [
    "#! add input\n",
    "\n",
    "def pal(string):\n",
    "    forwards = str(string.lower())\n",
    "    backwards = str(string[::-1].lower())\n",
    "    #forwards_mod = forwards.replace(' ', '')\n",
    "    #backwards_mod = backwards.replace(' ', '')\n",
    "    banned = ', :!.?'\n",
    "    for thingy in banned:\n",
    "        forwards = forwards.replace(thingy, '')\n",
    "        backwards = backwards.replace(thingy, '')\n",
    "    if forwards == backwards:\n",
    "        return('Your phrase: ' + string + ', is a palindrome!')\n",
    "    else:\n",
    "        return('Sorry, no.')"
   ]
  },
  {
   "cell_type": "code",
   "execution_count": 198,
   "metadata": {
    "collapsed": false
   },
   "outputs": [
    {
     "data": {
      "text/plain": [
       "'Your phrase: Able was I ere ! i sa w elba, is a palindrome!'"
      ]
     },
     "execution_count": 198,
     "metadata": {},
     "output_type": "execute_result"
    }
   ],
   "source": [
    "pal('Able .was I ere ! i sa w elba')"
   ]
  },
  {
   "cell_type": "code",
   "execution_count": 20,
   "metadata": {
    "collapsed": false
   },
   "outputs": [],
   "source": [
    "#! add input\n",
    "\n",
    "def pal():\n",
    "    string = input(\"Type here: \")\n",
    "    forwards = str(string.lower())\n",
    "    backwards = str(string[::-1].lower())\n",
    "    banned = ', :!.?'\n",
    "    for thingy in banned:\n",
    "        forwards = forwards.replace(thingy, '')\n",
    "        backwards = backwards.replace(thingy, '')\n",
    "    if forwards == backwards:\n",
    "        return('Your phrase: ' + string + ', is a palindrome!')\n",
    "    else:\n",
    "        return('Your phrase: ' + string + ', is not a palindrome')"
   ]
  },
  {
   "cell_type": "code",
   "execution_count": 23,
   "metadata": {
    "collapsed": false
   },
   "outputs": [
    {
     "name": "stdout",
     "output_type": "stream",
     "text": [
      "Type here: Doc, note, I dissent. A fast never prevents a fatness. I diet on cod.\n"
     ]
    },
    {
     "data": {
      "text/plain": [
       "'Your phrase: Doc, note, I dissent. A fast never prevents a fatness. I diet on cod., is a palindrome!'"
      ]
     },
     "execution_count": 23,
     "metadata": {},
     "output_type": "execute_result"
    }
   ],
   "source": [
    "pal()"
   ]
  },
  {
   "cell_type": "code",
   "execution_count": null,
   "metadata": {
    "collapsed": true
   },
   "outputs": [],
   "source": []
  }
 ],
 "metadata": {
  "kernelspec": {
   "display_name": "Python 3",
   "language": "python",
   "name": "python3"
  },
  "language_info": {
   "codemirror_mode": {
    "name": "ipython",
    "version": 3
   },
   "file_extension": ".py",
   "mimetype": "text/x-python",
   "name": "python",
   "nbconvert_exporter": "python",
   "pygments_lexer": "ipython3",
   "version": "3.5.2"
  }
 },
 "nbformat": 4,
 "nbformat_minor": 1
}
